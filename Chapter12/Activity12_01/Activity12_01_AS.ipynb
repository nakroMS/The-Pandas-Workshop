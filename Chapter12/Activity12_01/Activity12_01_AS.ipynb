{
 "cells": [
  {
   "cell_type": "code",
   "execution_count": 1,
   "id": "c790bb88",
   "metadata": {},
   "outputs": [],
   "source": [
    "#\n",
    "# libraries\n",
    "#\n",
    "import pandas as pd\n",
    "import numpy as np\n",
    "#"
   ]
  },
  {
   "cell_type": "code",
   "execution_count": 3,
   "id": "a711d9cb",
   "metadata": {},
   "outputs": [],
   "source": [
    "data_fn = 'household_power_consumption.csv'\n",
    "home_elec = \\\n",
    "    pd.read_csv(data_fn, \n",
    "                sep = ';',\n",
    "                low_memory = False)"
   ]
  },
  {
   "cell_type": "code",
   "execution_count": 4,
   "id": "950c585c",
   "metadata": {
    "scrolled": true
   },
   "outputs": [
    {
     "data": {
      "text/html": [
       "<div>\n",
       "<style scoped>\n",
       "    .dataframe tbody tr th:only-of-type {\n",
       "        vertical-align: middle;\n",
       "    }\n",
       "\n",
       "    .dataframe tbody tr th {\n",
       "        vertical-align: top;\n",
       "    }\n",
       "\n",
       "    .dataframe thead th {\n",
       "        text-align: right;\n",
       "    }\n",
       "</style>\n",
       "<table border=\"1\" class=\"dataframe\">\n",
       "  <thead>\n",
       "    <tr style=\"text-align: right;\">\n",
       "      <th></th>\n",
       "      <th>Date</th>\n",
       "      <th>Time</th>\n",
       "      <th>Global_active_power</th>\n",
       "      <th>Global_reactive_power</th>\n",
       "      <th>Voltage</th>\n",
       "      <th>Global_intensity</th>\n",
       "      <th>Sub_metering_1</th>\n",
       "      <th>Sub_metering_2</th>\n",
       "      <th>Sub_metering_3</th>\n",
       "    </tr>\n",
       "  </thead>\n",
       "  <tbody>\n",
       "    <tr>\n",
       "      <th>0</th>\n",
       "      <td>1/8/2008</td>\n",
       "      <td>00:00:00</td>\n",
       "      <td>0.500</td>\n",
       "      <td>0.226</td>\n",
       "      <td>239.750</td>\n",
       "      <td>2.400</td>\n",
       "      <td>0.000</td>\n",
       "      <td>0.000</td>\n",
       "      <td>1.0</td>\n",
       "    </tr>\n",
       "    <tr>\n",
       "      <th>1</th>\n",
       "      <td>1/8/2008</td>\n",
       "      <td>00:01:00</td>\n",
       "      <td>0.482</td>\n",
       "      <td>0.224</td>\n",
       "      <td>240.340</td>\n",
       "      <td>2.200</td>\n",
       "      <td>0.000</td>\n",
       "      <td>0.000</td>\n",
       "      <td>1.0</td>\n",
       "    </tr>\n",
       "    <tr>\n",
       "      <th>2</th>\n",
       "      <td>1/8/2008</td>\n",
       "      <td>00:02:00</td>\n",
       "      <td>0.502</td>\n",
       "      <td>0.234</td>\n",
       "      <td>241.680</td>\n",
       "      <td>2.400</td>\n",
       "      <td>0.000</td>\n",
       "      <td>0.000</td>\n",
       "      <td>0.0</td>\n",
       "    </tr>\n",
       "    <tr>\n",
       "      <th>3</th>\n",
       "      <td>1/8/2008</td>\n",
       "      <td>00:03:00</td>\n",
       "      <td>0.556</td>\n",
       "      <td>0.228</td>\n",
       "      <td>241.750</td>\n",
       "      <td>2.600</td>\n",
       "      <td>0.000</td>\n",
       "      <td>0.000</td>\n",
       "      <td>1.0</td>\n",
       "    </tr>\n",
       "    <tr>\n",
       "      <th>4</th>\n",
       "      <td>1/8/2008</td>\n",
       "      <td>00:04:00</td>\n",
       "      <td>0.854</td>\n",
       "      <td>0.342</td>\n",
       "      <td>241.550</td>\n",
       "      <td>4.000</td>\n",
       "      <td>0.000</td>\n",
       "      <td>1.000</td>\n",
       "      <td>7.0</td>\n",
       "    </tr>\n",
       "  </tbody>\n",
       "</table>\n",
       "</div>"
      ],
      "text/plain": [
       "       Date      Time Global_active_power Global_reactive_power  Voltage  \\\n",
       "0  1/8/2008  00:00:00               0.500                 0.226  239.750   \n",
       "1  1/8/2008  00:01:00               0.482                 0.224  240.340   \n",
       "2  1/8/2008  00:02:00               0.502                 0.234  241.680   \n",
       "3  1/8/2008  00:03:00               0.556                 0.228  241.750   \n",
       "4  1/8/2008  00:04:00               0.854                 0.342  241.550   \n",
       "\n",
       "  Global_intensity Sub_metering_1 Sub_metering_2  Sub_metering_3  \n",
       "0            2.400          0.000          0.000             1.0  \n",
       "1            2.200          0.000          0.000             1.0  \n",
       "2            2.400          0.000          0.000             0.0  \n",
       "3            2.600          0.000          0.000             1.0  \n",
       "4            4.000          0.000          1.000             7.0  "
      ]
     },
     "execution_count": 4,
     "metadata": {},
     "output_type": "execute_result"
    }
   ],
   "source": [
    "# home_elec.head()\n",
    "home_elec.head()"
   ]
  },
  {
   "cell_type": "code",
   "execution_count": 5,
   "id": "f49474f7",
   "metadata": {},
   "outputs": [
    {
     "data": {
      "text/plain": [
       "Date                      object\n",
       "Time                      object\n",
       "Global_active_power       object\n",
       "Global_reactive_power     object\n",
       "Voltage                   object\n",
       "Global_intensity          object\n",
       "Sub_metering_1            object\n",
       "Sub_metering_2            object\n",
       "Sub_metering_3           float64\n",
       "dtype: object"
      ]
     },
     "execution_count": 5,
     "metadata": {},
     "output_type": "execute_result"
    }
   ],
   "source": [
    "# home_elec.dtypes\n",
    "home_elec.dtypes"
   ]
  },
  {
   "cell_type": "code",
   "execution_count": 6,
   "id": "f8ac8b96",
   "metadata": {},
   "outputs": [
    {
     "name": "stdout",
     "output_type": "stream",
     "text": [
      "information for column Date:\n",
      " count      1049760\n",
      "unique         729\n",
      "top       1/8/2008\n",
      "freq          1440\n",
      "Name: Date, dtype: object\n",
      "information for column Time:\n",
      " count      1049760\n",
      "unique        1440\n",
      "top       00:00:00\n",
      "freq           729\n",
      "Name: Time, dtype: object\n",
      "information for column Global_active_power:\n",
      " count     1049760\n",
      "unique       3852\n",
      "top             ?\n",
      "freq         9570\n",
      "Name: Global_active_power, dtype: object\n",
      "information for column Global_reactive_power:\n",
      " count     1049760\n",
      "unique        510\n",
      "top         0.000\n",
      "freq       230359\n",
      "Name: Global_reactive_power, dtype: object\n",
      "information for column Voltage:\n",
      " count     1049760\n",
      "unique       2738\n",
      "top             ?\n",
      "freq         9570\n",
      "Name: Voltage, dtype: object\n",
      "information for column Global_intensity:\n",
      " count     1049760\n",
      "unique        207\n",
      "top         1.400\n",
      "freq        81879\n",
      "Name: Global_intensity, dtype: object\n",
      "information for column Sub_metering_1:\n",
      " count     1049760\n",
      "unique         89\n",
      "top         0.000\n",
      "freq       955562\n",
      "Name: Sub_metering_1, dtype: object\n",
      "information for column Sub_metering_2:\n",
      " count     1049760\n",
      "unique         82\n",
      "top         0.000\n",
      "freq       738513\n",
      "Name: Sub_metering_2, dtype: object\n",
      "information for column Sub_metering_3:\n",
      " count    1.040190e+06\n",
      "mean     6.838058e+00\n",
      "std      8.569015e+00\n",
      "min      0.000000e+00\n",
      "25%      0.000000e+00\n",
      "50%      1.000000e+00\n",
      "75%      1.800000e+01\n",
      "max      3.100000e+01\n",
      "Name: Sub_metering_3, dtype: float64\n"
     ]
    }
   ],
   "source": [
    "# for col in home_elec.columns:\n",
    "#     print('information for column ' + \n",
    "#           col + \n",
    "#           ':\\n', \n",
    "#           home_elec[col].describe())\n",
    "    \n",
    "for col in home_elec.columns:\n",
    "    print('information for column ' + \n",
    "         col + \n",
    "         ':\\n',\n",
    "         home_elec[col].describe())"
   ]
  },
  {
   "cell_type": "code",
   "execution_count": 7,
   "id": "afb34247",
   "metadata": {},
   "outputs": [],
   "source": [
    "home_elec.replace('?', np.nan, inplace = True)\n",
    "home_elec.interpolate(inplace = True)"
   ]
  },
  {
   "cell_type": "code",
   "execution_count": 8,
   "id": "5e971cd0",
   "metadata": {},
   "outputs": [],
   "source": [
    "# for col in home_elec.columns[2:]:\n",
    "#     home_elec[col] = home_elec[col].astype(float)\n",
    "for col in home_elec.columns[2:]:\n",
    "    home_elec[col] = home_elec[col].astype(float)"
   ]
  },
  {
   "cell_type": "code",
   "execution_count": 10,
   "id": "17c8921b",
   "metadata": {},
   "outputs": [
    {
     "data": {
      "text/plain": [
       "<Axes: xlabel='Date'>"
      ]
     },
     "execution_count": 10,
     "metadata": {},
     "output_type": "execute_result"
    },
    {
     "data": {
      "image/png": "[encoded data removed]",
      "text/plain": [
       "<Figure size 640x480 with 1 Axes>"
      ]
     },
     "metadata": {},
     "output_type": "display_data"
    }
   ],
   "source": [
    "(home_elec[['Date', \n",
    "            'Sub_metering_1']].\n",
    "             plot(x = 'Date', \n",
    "                  y = 'Sub_metering_1'))"
   ]
  },
  {
   "cell_type": "code",
   "execution_count": 15,
   "id": "5596d3e9",
   "metadata": {},
   "outputs": [
    {
     "data": {
      "text/html": [
       "<div>\n",
       "<style scoped>\n",
       "    .dataframe tbody tr th:only-of-type {\n",
       "        vertical-align: middle;\n",
       "    }\n",
       "\n",
       "    .dataframe tbody tr th {\n",
       "        vertical-align: top;\n",
       "    }\n",
       "\n",
       "    .dataframe thead th {\n",
       "        text-align: right;\n",
       "    }\n",
       "</style>\n",
       "<table border=\"1\" class=\"dataframe\">\n",
       "  <thead>\n",
       "    <tr style=\"text-align: right;\">\n",
       "      <th></th>\n",
       "      <th>Date</th>\n",
       "      <th>Time</th>\n",
       "      <th>Kitchen_power_use</th>\n",
       "    </tr>\n",
       "  </thead>\n",
       "  <tbody>\n",
       "    <tr>\n",
       "      <th>220320</th>\n",
       "      <td>1/1/2009</td>\n",
       "      <td>00:00:00</td>\n",
       "      <td>0.0</td>\n",
       "    </tr>\n",
       "    <tr>\n",
       "      <th>220321</th>\n",
       "      <td>1/1/2009</td>\n",
       "      <td>00:01:00</td>\n",
       "      <td>0.0</td>\n",
       "    </tr>\n",
       "    <tr>\n",
       "      <th>220322</th>\n",
       "      <td>1/1/2009</td>\n",
       "      <td>00:02:00</td>\n",
       "      <td>0.0</td>\n",
       "    </tr>\n",
       "    <tr>\n",
       "      <th>220323</th>\n",
       "      <td>1/1/2009</td>\n",
       "      <td>00:03:00</td>\n",
       "      <td>0.0</td>\n",
       "    </tr>\n",
       "    <tr>\n",
       "      <th>220324</th>\n",
       "      <td>1/1/2009</td>\n",
       "      <td>00:04:00</td>\n",
       "      <td>0.0</td>\n",
       "    </tr>\n",
       "  </tbody>\n",
       "</table>\n",
       "</div>"
      ],
      "text/plain": [
       "            Date      Time  Kitchen_power_use\n",
       "220320  1/1/2009  00:00:00                0.0\n",
       "220321  1/1/2009  00:01:00                0.0\n",
       "220322  1/1/2009  00:02:00                0.0\n",
       "220323  1/1/2009  00:03:00                0.0\n",
       "220324  1/1/2009  00:04:00                0.0"
      ]
     },
     "execution_count": 15,
     "metadata": {},
     "output_type": "execute_result"
    }
   ],
   "source": [
    "#\n",
    "# Sub_metering_1 is the kitchen and related\n",
    "# create a new DataFrame with the dates, times and these data\n",
    "#\n",
    "kitchen_elec = home_elec.loc[home_elec['Date'].str.contains('2009'), ['Date', 'Time', 'Sub_metering_1']]\n",
    "kitchen_elec.columns = ['Date', 'Time', 'Kitchen_power_use']\n",
    "kitchen_elec.head()\n"
   ]
  },
  {
   "cell_type": "code",
   "execution_count": 16,
   "id": "73581e62",
   "metadata": {},
   "outputs": [
    {
     "data": {
      "text/html": [
       "<div>\n",
       "<style scoped>\n",
       "    .dataframe tbody tr th:only-of-type {\n",
       "        vertical-align: middle;\n",
       "    }\n",
       "\n",
       "    .dataframe tbody tr th {\n",
       "        vertical-align: top;\n",
       "    }\n",
       "\n",
       "    .dataframe thead th {\n",
       "        text-align: right;\n",
       "    }\n",
       "</style>\n",
       "<table border=\"1\" class=\"dataframe\">\n",
       "  <thead>\n",
       "    <tr style=\"text-align: right;\">\n",
       "      <th></th>\n",
       "      <th>Date</th>\n",
       "      <th>Time</th>\n",
       "      <th>Kitchen_power_use</th>\n",
       "      <th>timestamp</th>\n",
       "    </tr>\n",
       "  </thead>\n",
       "  <tbody>\n",
       "    <tr>\n",
       "      <th>220320</th>\n",
       "      <td>1/1/2009</td>\n",
       "      <td>00:00:00</td>\n",
       "      <td>0.0</td>\n",
       "      <td>2009-01-01 00:00:00</td>\n",
       "    </tr>\n",
       "    <tr>\n",
       "      <th>220321</th>\n",
       "      <td>1/1/2009</td>\n",
       "      <td>00:01:00</td>\n",
       "      <td>0.0</td>\n",
       "      <td>2009-01-01 00:01:00</td>\n",
       "    </tr>\n",
       "    <tr>\n",
       "      <th>220322</th>\n",
       "      <td>1/1/2009</td>\n",
       "      <td>00:02:00</td>\n",
       "      <td>0.0</td>\n",
       "      <td>2009-01-01 00:02:00</td>\n",
       "    </tr>\n",
       "    <tr>\n",
       "      <th>220323</th>\n",
       "      <td>1/1/2009</td>\n",
       "      <td>00:03:00</td>\n",
       "      <td>0.0</td>\n",
       "      <td>2009-01-01 00:03:00</td>\n",
       "    </tr>\n",
       "    <tr>\n",
       "      <th>220324</th>\n",
       "      <td>1/1/2009</td>\n",
       "      <td>00:04:00</td>\n",
       "      <td>0.0</td>\n",
       "      <td>2009-01-01 00:04:00</td>\n",
       "    </tr>\n",
       "  </tbody>\n",
       "</table>\n",
       "</div>"
      ],
      "text/plain": [
       "            Date      Time  Kitchen_power_use           timestamp\n",
       "220320  1/1/2009  00:00:00                0.0 2009-01-01 00:00:00\n",
       "220321  1/1/2009  00:01:00                0.0 2009-01-01 00:01:00\n",
       "220322  1/1/2009  00:02:00                0.0 2009-01-01 00:02:00\n",
       "220323  1/1/2009  00:03:00                0.0 2009-01-01 00:03:00\n",
       "220324  1/1/2009  00:04:00                0.0 2009-01-01 00:04:00"
      ]
     },
     "execution_count": 16,
     "metadata": {},
     "output_type": "execute_result"
    }
   ],
   "source": [
    "kitchen_elec.loc[:, 'timestamp'] = \\\n",
    "    pd.to_datetime(kitchen_elec.loc[:, 'Date'] + ' '\n",
    "                   + kitchen_elec.loc[:, 'Time'],\n",
    "                  dayfirst = True)\n",
    "kitchen_elec.sort_values('timestamp', \n",
    "                         inplace = True)\n",
    "kitchen_elec.head()"
   ]
  },
  {
   "cell_type": "code",
   "execution_count": 13,
   "id": "42bdc098",
   "metadata": {},
   "outputs": [
    {
     "data": {
      "text/html": [
       "<div>\n",
       "<style scoped>\n",
       "    .dataframe tbody tr th:only-of-type {\n",
       "        vertical-align: middle;\n",
       "    }\n",
       "\n",
       "    .dataframe tbody tr th {\n",
       "        vertical-align: top;\n",
       "    }\n",
       "\n",
       "    .dataframe thead th {\n",
       "        text-align: right;\n",
       "    }\n",
       "</style>\n",
       "<table border=\"1\" class=\"dataframe\">\n",
       "  <thead>\n",
       "    <tr style=\"text-align: right;\">\n",
       "      <th></th>\n",
       "      <th>Date</th>\n",
       "      <th>Time</th>\n",
       "      <th>Kitchen_power_use</th>\n",
       "      <th>timestamp</th>\n",
       "      <th>hour</th>\n",
       "      <th>date</th>\n",
       "    </tr>\n",
       "  </thead>\n",
       "  <tbody>\n",
       "    <tr>\n",
       "      <th>1074636</th>\n",
       "      <td>1/1/2009</td>\n",
       "      <td>00:00:00</td>\n",
       "      <td>0.0</td>\n",
       "      <td>2009-01-01 00:00:00</td>\n",
       "      <td>0</td>\n",
       "      <td>2009-01-01</td>\n",
       "    </tr>\n",
       "    <tr>\n",
       "      <th>1074637</th>\n",
       "      <td>1/1/2009</td>\n",
       "      <td>00:01:00</td>\n",
       "      <td>0.0</td>\n",
       "      <td>2009-01-01 00:01:00</td>\n",
       "      <td>0</td>\n",
       "      <td>2009-01-01</td>\n",
       "    </tr>\n",
       "    <tr>\n",
       "      <th>1074638</th>\n",
       "      <td>1/1/2009</td>\n",
       "      <td>00:02:00</td>\n",
       "      <td>0.0</td>\n",
       "      <td>2009-01-01 00:02:00</td>\n",
       "      <td>0</td>\n",
       "      <td>2009-01-01</td>\n",
       "    </tr>\n",
       "    <tr>\n",
       "      <th>1074639</th>\n",
       "      <td>1/1/2009</td>\n",
       "      <td>00:03:00</td>\n",
       "      <td>0.0</td>\n",
       "      <td>2009-01-01 00:03:00</td>\n",
       "      <td>0</td>\n",
       "      <td>2009-01-01</td>\n",
       "    </tr>\n",
       "    <tr>\n",
       "      <th>1074640</th>\n",
       "      <td>1/1/2009</td>\n",
       "      <td>00:04:00</td>\n",
       "      <td>0.0</td>\n",
       "      <td>2009-01-01 00:04:00</td>\n",
       "      <td>0</td>\n",
       "      <td>2009-01-01</td>\n",
       "    </tr>\n",
       "  </tbody>\n",
       "</table>\n",
       "</div>"
      ],
      "text/plain": [
       "             Date      Time  Kitchen_power_use           timestamp  hour  \\\n",
       "1074636  1/1/2009  00:00:00                0.0 2009-01-01 00:00:00     0   \n",
       "1074637  1/1/2009  00:01:00                0.0 2009-01-01 00:01:00     0   \n",
       "1074638  1/1/2009  00:02:00                0.0 2009-01-01 00:02:00     0   \n",
       "1074639  1/1/2009  00:03:00                0.0 2009-01-01 00:03:00     0   \n",
       "1074640  1/1/2009  00:04:00                0.0 2009-01-01 00:04:00     0   \n",
       "\n",
       "               date  \n",
       "1074636  2009-01-01  \n",
       "1074637  2009-01-01  \n",
       "1074638  2009-01-01  \n",
       "1074639  2009-01-01  \n",
       "1074640  2009-01-01  "
      ]
     },
     "execution_count": 13,
     "metadata": {},
     "output_type": "execute_result"
    }
   ],
   "source": [
    "#\n",
    "# create an hours column\n",
    "#\n",
    "kitchen_elec['hour'] = \\\n",
    "    kitchen_elec['timestamp'].dt.hour\n",
    "#\n",
    "# create a date column in the standard format\n",
    "#\n",
    "kitchen_elec['date'] = \\\n",
    "    kitchen_elec['timestamp'].dt.date\n",
    "kitchen_elec.head()"
   ]
  },
  {
   "cell_type": "code",
   "execution_count": 17,
   "id": "58b83186",
   "metadata": {},
   "outputs": [
    {
     "ename": "KeyError",
     "evalue": "\"['date', 'hour'] not in index\"",
     "output_type": "error",
     "traceback": [
      "\u001b[0;31m---------------------------------------------------------------------------\u001b[0m",
      "\u001b[0;31mKeyError\u001b[0m                                  Traceback (most recent call last)",
      "Cell \u001b[0;32mIn[17], line 2\u001b[0m\n\u001b[1;32m      1\u001b[0m kitchen_elec \u001b[38;5;241m=\u001b[39m \\\n\u001b[0;32m----> 2\u001b[0m     (\u001b[43mkitchen_elec\u001b[49m\u001b[43m[\u001b[49m\u001b[43m[\u001b[49m\u001b[38;5;124;43m'\u001b[39;49m\u001b[38;5;124;43mdate\u001b[39;49m\u001b[38;5;124;43m'\u001b[39;49m\u001b[43m,\u001b[49m\n\u001b[1;32m      3\u001b[0m \u001b[43m                  \u001b[49m\u001b[38;5;124;43m'\u001b[39;49m\u001b[38;5;124;43mhour\u001b[39;49m\u001b[38;5;124;43m'\u001b[39;49m\u001b[43m,\u001b[49m\u001b[43m \u001b[49m\n\u001b[1;32m      4\u001b[0m \u001b[43m                  \u001b[49m\u001b[38;5;124;43m'\u001b[39;49m\u001b[38;5;124;43mKitchen_power_use\u001b[39;49m\u001b[38;5;124;43m'\u001b[39;49m\u001b[43m]\u001b[49m\u001b[43m]\u001b[49m\u001b[38;5;241m.\u001b[39m\n\u001b[1;32m      5\u001b[0m                   groupby([\u001b[38;5;124m'\u001b[39m\u001b[38;5;124mdate\u001b[39m\u001b[38;5;124m'\u001b[39m,\n\u001b[1;32m      6\u001b[0m                            \u001b[38;5;124m'\u001b[39m\u001b[38;5;124mhour\u001b[39m\u001b[38;5;124m'\u001b[39m])\u001b[38;5;241m.\u001b[39msum())\n\u001b[1;32m      7\u001b[0m kitchen_elec\u001b[38;5;241m.\u001b[39mreset_index(inplace \u001b[38;5;241m=\u001b[39m \u001b[38;5;28;01mTrue\u001b[39;00m)\n\u001b[1;32m      8\u001b[0m kitchen_elec\u001b[38;5;241m.\u001b[39miloc[\u001b[38;5;241m20\u001b[39m:\u001b[38;5;241m28\u001b[39m, :]\n",
      "File \u001b[0;32m~/anaconda3/lib/python3.10/site-packages/pandas/core/frame.py:3813\u001b[0m, in \u001b[0;36mDataFrame.__getitem__\u001b[0;34m(self, key)\u001b[0m\n\u001b[1;32m   3811\u001b[0m     \u001b[38;5;28;01mif\u001b[39;00m is_iterator(key):\n\u001b[1;32m   3812\u001b[0m         key \u001b[38;5;241m=\u001b[39m \u001b[38;5;28mlist\u001b[39m(key)\n\u001b[0;32m-> 3813\u001b[0m     indexer \u001b[38;5;241m=\u001b[39m \u001b[38;5;28;43mself\u001b[39;49m\u001b[38;5;241;43m.\u001b[39;49m\u001b[43mcolumns\u001b[49m\u001b[38;5;241;43m.\u001b[39;49m\u001b[43m_get_indexer_strict\u001b[49m\u001b[43m(\u001b[49m\u001b[43mkey\u001b[49m\u001b[43m,\u001b[49m\u001b[43m \u001b[49m\u001b[38;5;124;43m\"\u001b[39;49m\u001b[38;5;124;43mcolumns\u001b[39;49m\u001b[38;5;124;43m\"\u001b[39;49m\u001b[43m)\u001b[49m[\u001b[38;5;241m1\u001b[39m]\n\u001b[1;32m   3815\u001b[0m \u001b[38;5;66;03m# take() does not accept boolean indexers\u001b[39;00m\n\u001b[1;32m   3816\u001b[0m \u001b[38;5;28;01mif\u001b[39;00m \u001b[38;5;28mgetattr\u001b[39m(indexer, \u001b[38;5;124m\"\u001b[39m\u001b[38;5;124mdtype\u001b[39m\u001b[38;5;124m\"\u001b[39m, \u001b[38;5;28;01mNone\u001b[39;00m) \u001b[38;5;241m==\u001b[39m \u001b[38;5;28mbool\u001b[39m:\n",
      "File \u001b[0;32m~/anaconda3/lib/python3.10/site-packages/pandas/core/indexes/base.py:6070\u001b[0m, in \u001b[0;36mIndex._get_indexer_strict\u001b[0;34m(self, key, axis_name)\u001b[0m\n\u001b[1;32m   6067\u001b[0m \u001b[38;5;28;01melse\u001b[39;00m:\n\u001b[1;32m   6068\u001b[0m     keyarr, indexer, new_indexer \u001b[38;5;241m=\u001b[39m \u001b[38;5;28mself\u001b[39m\u001b[38;5;241m.\u001b[39m_reindex_non_unique(keyarr)\n\u001b[0;32m-> 6070\u001b[0m \u001b[38;5;28;43mself\u001b[39;49m\u001b[38;5;241;43m.\u001b[39;49m\u001b[43m_raise_if_missing\u001b[49m\u001b[43m(\u001b[49m\u001b[43mkeyarr\u001b[49m\u001b[43m,\u001b[49m\u001b[43m \u001b[49m\u001b[43mindexer\u001b[49m\u001b[43m,\u001b[49m\u001b[43m \u001b[49m\u001b[43maxis_name\u001b[49m\u001b[43m)\u001b[49m\n\u001b[1;32m   6072\u001b[0m keyarr \u001b[38;5;241m=\u001b[39m \u001b[38;5;28mself\u001b[39m\u001b[38;5;241m.\u001b[39mtake(indexer)\n\u001b[1;32m   6073\u001b[0m \u001b[38;5;28;01mif\u001b[39;00m \u001b[38;5;28misinstance\u001b[39m(key, Index):\n\u001b[1;32m   6074\u001b[0m     \u001b[38;5;66;03m# GH 42790 - Preserve name from an Index\u001b[39;00m\n",
      "File \u001b[0;32m~/anaconda3/lib/python3.10/site-packages/pandas/core/indexes/base.py:6133\u001b[0m, in \u001b[0;36mIndex._raise_if_missing\u001b[0;34m(self, key, indexer, axis_name)\u001b[0m\n\u001b[1;32m   6130\u001b[0m     \u001b[38;5;28;01mraise\u001b[39;00m \u001b[38;5;167;01mKeyError\u001b[39;00m(\u001b[38;5;124mf\u001b[39m\u001b[38;5;124m\"\u001b[39m\u001b[38;5;124mNone of [\u001b[39m\u001b[38;5;132;01m{\u001b[39;00mkey\u001b[38;5;132;01m}\u001b[39;00m\u001b[38;5;124m] are in the [\u001b[39m\u001b[38;5;132;01m{\u001b[39;00maxis_name\u001b[38;5;132;01m}\u001b[39;00m\u001b[38;5;124m]\u001b[39m\u001b[38;5;124m\"\u001b[39m)\n\u001b[1;32m   6132\u001b[0m not_found \u001b[38;5;241m=\u001b[39m \u001b[38;5;28mlist\u001b[39m(ensure_index(key)[missing_mask\u001b[38;5;241m.\u001b[39mnonzero()[\u001b[38;5;241m0\u001b[39m]]\u001b[38;5;241m.\u001b[39munique())\n\u001b[0;32m-> 6133\u001b[0m \u001b[38;5;28;01mraise\u001b[39;00m \u001b[38;5;167;01mKeyError\u001b[39;00m(\u001b[38;5;124mf\u001b[39m\u001b[38;5;124m\"\u001b[39m\u001b[38;5;132;01m{\u001b[39;00mnot_found\u001b[38;5;132;01m}\u001b[39;00m\u001b[38;5;124m not in index\u001b[39m\u001b[38;5;124m\"\u001b[39m)\n",
      "\u001b[0;31mKeyError\u001b[0m: \"['date', 'hour'] not in index\""
     ]
    }
   ],
   "source": [
    "kitchen_elec = \\\n",
    "    (kitchen_elec[['date',\n",
    "                  'hour', \n",
    "                  'Kitchen_power_use']].\n",
    "                  groupby(['date',\n",
    "                           'hour']).sum())\n",
    "kitchen_elec.reset_index(inplace = True)\n",
    "kitchen_elec.iloc[20:28, :]"
   ]
  },
  {
   "cell_type": "code",
   "execution_count": 15,
   "id": "2c64926d",
   "metadata": {},
   "outputs": [
    {
     "data": {
      "text/plain": [
       "<AxesSubplot:xlabel='hour'>"
      ]
     },
     "execution_count": 15,
     "metadata": {},
     "output_type": "execute_result"
    },
    {
     "data": {
      "image/png": "[encoded data removed]",
      "text/plain": [
       "<Figure size 432x288 with 1 Axes>"
      ]
     },
     "metadata": {
      "needs_background": "light"
     },
     "output_type": "display_data"
    }
   ],
   "source": [
    "#\n",
    "# aggregate values by hour for January\n",
    "#\n",
    "(kitchen_elec.loc[((kitchen_elec['date'] >= \n",
    "                    pd.to_datetime('2009-01-01')) & \n",
    "                   (kitchen_elec['date'] <\n",
    "                    pd.to_datetime('2009-02-01'))),\n",
    "                  ['hour',\n",
    "                   'Kitchen_power_use']].\n",
    "                   groupby('hour').mean().plot(kind = \n",
    "                                               'bar'))"
   ]
  },
  {
   "cell_type": "code",
   "execution_count": null,
   "id": "eee40bbf",
   "metadata": {},
   "outputs": [],
   "source": [
    "#\n",
    "# aggregate values by hour for the entire year\n",
    "#\n",
    "(kitchen_elec.loc[:,\n",
    "                  ['hour', \n",
    "                   'Kitchen_power_use']].\n",
    "                    groupby('hour').mean().plot(kind = \n",
    "                                                'bar'))"
   ]
  },
  {
   "cell_type": "code",
   "execution_count": null,
   "id": "8542d7e2",
   "metadata": {},
   "outputs": [],
   "source": []
  }
 ],
 "metadata": {
  "kernelspec": {
   "display_name": "Python 3 (ipykernel)",
   "language": "python",
   "name": "python3"
  },
  "language_info": {
   "codemirror_mode": {
    "name": "ipython",
    "version": 3
   },
   "file_extension": ".py",
   "mimetype": "text/x-python",
   "name": "python",
   "nbconvert_exporter": "python",
   "pygments_lexer": "ipython3",
   "version": "3.10.9"
  }
 },
 "nbformat": 4,
 "nbformat_minor": 5
}
